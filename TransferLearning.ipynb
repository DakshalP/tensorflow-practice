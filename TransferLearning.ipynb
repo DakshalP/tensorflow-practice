{
  "nbformat": 4,
  "nbformat_minor": 0,
  "metadata": {
    "colab": {
      "provenance": [],
      "authorship_tag": "ABX9TyPQVqXPlWjzi8V7z7DkUHBY"
    },
    "kernelspec": {
      "name": "python3",
      "display_name": "Python 3"
    },
    "language_info": {
      "name": "python"
    }
  },
  "cells": [
    {
      "cell_type": "markdown",
      "source": [
        "# Image Classification with Transfer Learning\n",
        "\n",
        "Using transfer learning to train an image model based off of MobileNetV2. \n",
        "\n",
        "Following the *Transfer learning and fine-tuning* tutorial. \n",
        "\n",
        "With my own notes in the markdown and comments. "
      ],
      "metadata": {
        "id": "bJVotfhnjnZa"
      }
    },
    {
      "cell_type": "code",
      "source": [],
      "metadata": {
        "id": "V3_BZibGkcw2"
      },
      "execution_count": null,
      "outputs": []
    }
  ]
}