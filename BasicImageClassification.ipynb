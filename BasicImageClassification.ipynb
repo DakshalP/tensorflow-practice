{
  "nbformat": 4,
  "nbformat_minor": 0,
  "metadata": {
    "colab": {
      "provenance": [],
      "authorship_tag": "ABX9TyMA6d5/KwG4ZDXIBhef0+f+"
    },
    "kernelspec": {
      "name": "python3",
      "display_name": "Python 3"
    },
    "language_info": {
      "name": "python"
    }
  },
  "cells": [
    {
      "cell_type": "markdown",
      "source": [
        "# Basic Image Classification\n",
        "\n",
        "Following tenserflow tutorial: *Basic classification: Classify images of clothing* \n",
        "\n",
        "Uses clothing dataset instead of classic digit MNIST dataset."
      ],
      "metadata": {
        "id": "rifgtDwylK8Y"
      }
    },
    {
      "cell_type": "code",
      "execution_count": null,
      "metadata": {
        "id": "KWWm3Nd9lHzs"
      },
      "outputs": [],
      "source": []
    }
  ]
}